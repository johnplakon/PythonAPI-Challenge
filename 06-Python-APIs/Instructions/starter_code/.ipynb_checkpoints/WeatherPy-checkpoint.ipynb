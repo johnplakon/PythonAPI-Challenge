{
 "cells": [
  {
   "cell_type": "markdown",
   "metadata": {},
   "source": [
    "# WeatherPy\n",
    "----\n",
    "\n",
    "#### Note\n",
    "* Instructions have been included for each segment. You do not have to follow them exactly, but they are included to help you think through the steps."
   ]
  },
  {
   "cell_type": "code",
   "execution_count": 2,
   "metadata": {
    "scrolled": true
   },
   "outputs": [
    {
     "ename": "ModuleNotFoundError",
     "evalue": "No module named 'citipy'",
     "output_type": "error",
     "traceback": [
      "\u001b[1;31m---------------------------------------------------------------------------\u001b[0m",
      "\u001b[1;31mModuleNotFoundError\u001b[0m                       Traceback (most recent call last)",
      "\u001b[1;32m<ipython-input-2-e1c48ad5406f>\u001b[0m in \u001b[0;36m<module>\u001b[1;34m\u001b[0m\n\u001b[0;32m     10\u001b[0m \u001b[1;33m\u001b[0m\u001b[0m\n\u001b[0;32m     11\u001b[0m \u001b[1;31m# Incorporated citipy to determine city based on latitude and longitude\u001b[0m\u001b[1;33m\u001b[0m\u001b[1;33m\u001b[0m\u001b[1;33m\u001b[0m\u001b[0m\n\u001b[1;32m---> 12\u001b[1;33m \u001b[1;32mfrom\u001b[0m \u001b[0mcitipy\u001b[0m \u001b[1;32mimport\u001b[0m \u001b[0mcitipy\u001b[0m\u001b[1;33m\u001b[0m\u001b[1;33m\u001b[0m\u001b[0m\n\u001b[0m\u001b[0;32m     13\u001b[0m \u001b[1;33m\u001b[0m\u001b[0m\n\u001b[0;32m     14\u001b[0m \u001b[1;31m# Output File (CSV)\u001b[0m\u001b[1;33m\u001b[0m\u001b[1;33m\u001b[0m\u001b[1;33m\u001b[0m\u001b[0m\n",
      "\u001b[1;31mModuleNotFoundError\u001b[0m: No module named 'citipy'"
     ]
    }
   ],
   "source": [
    "# Dependencies and Setup\n",
    "import matplotlib.pyplot as plt\n",
    "import pandas as pd\n",
    "import numpy as np\n",
    "import requests\n",
    "import time\n",
    "\n",
    "# Import API key\n",
    "from api_keys import api_key\n",
    "\n",
    "# Incorporated citipy to determine city based on latitude and longitude\n",
    "from citipy import citipy\n",
    "\n",
    "# Output File (CSV)\n",
    "output_data_file = \"output_data/cities.csv\"\n",
    "\n",
    "# Range of latitudes and longitudes\n",
    "lat_range = (-90, 90)\n",
    "lng_range = (-180, 180)"
   ]
  },
  {
   "cell_type": "markdown",
   "metadata": {},
   "source": [
    "## Generate Cities List"
   ]
  },
  {
   "cell_type": "code",
   "execution_count": null,
   "metadata": {},
   "outputs": [],
   "source": [
    "# List for holding lat_lngs and cities\n",
    "lat_lngs = []\n",
    "cities = []\n",
    "\n",
    "# Create a set of random lat and lng combinations\n",
    "lats = np.random.uniform(low=-90.000, high=90.000, size=1500)\n",
    "lngs = np.random.uniform(low=-180.000, high=180.000, size=1500)\n",
    "lat_lngs = zip(lats, lngs)\n",
    "\n",
    "# Identify nearest city for each lat, lng combination\n",
    "for lat_lng in lat_lngs:\n",
    "    city = citipy.nearest_city(lat_lng[0], lat_lng[1]).city_name\n",
    "    \n",
    "    # If the city is unique, then add it to a our cities list\n",
    "    if city not in cities:\n",
    "        cities.append(city)\n",
    "\n",
    "# Print the city count to confirm sufficient count\n",
    "len(cities)"
   ]
  },
  {
   "cell_type": "markdown",
   "metadata": {},
   "source": [
    "### Perform API Calls\n",
    "* Perform a weather check on each city using a series of successive API calls.\n",
    "* Include a print log of each city as it'sbeing processed (with the city number and city name).\n"
   ]
  },
  {
   "cell_type": "code",
   "execution_count": null,
   "metadata": {},
   "outputs": [],
   "source": [
    "# Create settings dictionary with information we're interested in\n",
    "settings = {\"units\": \"imperial\", \"appid\": api_key}\n",
    "\n",
    "# Initialize data frame to store data from API calls\n",
    "WeatherPy_df =pd.DataFrame(columns = [\"City\",\"Cloudiness\", \"Country\",\n",
    "                                    \"Date\", \"Max Temp\", \"Wind Speed\", \n",
    "                                    \"Lat\",\"Lng\", \"Humidity\"])\n",
    "count = 1 # counter to count the number of calls to API\n",
    "err = 0 # error count to record how many cities the API responds back with no data.\n",
    "sets = 0 # counter to count the number of call sets\n",
    "index = 0 # index for the data frame WeatherPy data frame\n",
    "#Get current time\n",
    "t0 =time.time()\n",
    "print(f'Beginning Data Retrieval \\n ........................')\n",
    "for city in cities:\n",
    "    try:\n",
    "        city1 = city.replace(\" \", \"%20\") # remove space in city name so the URL retrieved is not broken.\n",
    "        print(f'Processing Record {count} of Set {sets} | {city}' )\n",
    "        print(f'{owm.BASE_URL}weather?q={city1}&units=imperial&APPID={api_key}')\n",
    "        city_stats = owm.get_current(city, **settings)\n",
    "        WeatherPy_df.set_value(index, \"City\", city_stats[\"name\"])\n",
    "        WeatherPy_df.set_value(index, \"Cloudiness\", city_stats(\"clouds.all\"))\n",
    "        WeatherPy_df.set_value(index, \"Country\", city_stats(\"sys.country\"))\n",
    "        WeatherPy_df.set_value(index, \"Date\", city_stats(\"dt\"))\n",
    "        WeatherPy_df.set_value(index, \"Max Temp\", city_stats(\"main.temp_max\"))\n",
    "        WeatherPy_df.set_value(index, \"Wind Speed\", city_stats(\"wind.speed\"))\n",
    "        WeatherPy_df.set_value(index, \"Lat\", city_stats(\"coord.lat\"))\n",
    "        WeatherPy_df.set_value(index, \"Lng\", city_stats(\"coord.lon\"))\n",
    "        WeatherPy_df.set_value(index, \"Humidity\", city_stats(\"main.humidity\"))\n",
    "        index = index +1 \n",
    "    except Exception as e:\n",
    "        print(e)\n",
    "        err= err+1\n",
    "    count = count+1\n",
    "    if count == 51: # loop to limit 50 API calls per minute. The OpenWeatherMap API limit is 60 calls/min\n",
    "        t1=time.time()\n",
    "        count = 1 \n",
    "        sets = sets+1\n",
    "        time.sleep(60-(t1-t0))\n",
    "        t0=time.time()\n",
    "\n",
    "print(\"end of stats loop\")\n",
    "print(f'Could not get data for {err} cities')\n"
   ]
  },
  {
   "cell_type": "markdown",
   "metadata": {},
   "source": [
    "### Convert Raw Data to DataFrame\n",
    "* Export the city data into a .csv.\n",
    "* Display the DataFrame"
   ]
  },
  {
   "cell_type": "code",
   "execution_count": null,
   "metadata": {},
   "outputs": [],
   "source": [
    "WeatherPy_df.count()"
   ]
  },
  {
   "cell_type": "code",
   "execution_count": null,
   "metadata": {},
   "outputs": [],
   "source": []
  },
  {
   "cell_type": "markdown",
   "metadata": {},
   "source": [
    "### Plotting the Data\n",
    "* Use proper labeling of the plots using plot titles (including date of analysis) and axes labels.\n",
    "* Save the plotted figures as .pngs."
   ]
  },
  {
   "cell_type": "markdown",
   "metadata": {},
   "source": [
    "#### Latitude vs. Temperature Plot"
   ]
  },
  {
   "cell_type": "code",
   "execution_count": null,
   "metadata": {},
   "outputs": [],
   "source": []
  },
  {
   "cell_type": "markdown",
   "metadata": {},
   "source": [
    "#### Latitude vs. Humidity Plot"
   ]
  },
  {
   "cell_type": "code",
   "execution_count": null,
   "metadata": {},
   "outputs": [],
   "source": []
  },
  {
   "cell_type": "markdown",
   "metadata": {},
   "source": [
    "#### Latitude vs. Cloudiness Plot"
   ]
  },
  {
   "cell_type": "code",
   "execution_count": null,
   "metadata": {},
   "outputs": [],
   "source": []
  },
  {
   "cell_type": "markdown",
   "metadata": {},
   "source": [
    "#### Latitude vs. Wind Speed Plot"
   ]
  },
  {
   "cell_type": "code",
   "execution_count": null,
   "metadata": {},
   "outputs": [],
   "source": []
  },
  {
   "cell_type": "code",
   "execution_count": null,
   "metadata": {},
   "outputs": [],
   "source": []
  }
 ],
 "metadata": {
  "anaconda-cloud": {},
  "kernel_info": {
   "name": "python3"
  },
  "kernelspec": {
   "display_name": "Python 3",
   "language": "python",
   "name": "python3"
  },
  "language_info": {
   "codemirror_mode": {
    "name": "ipython",
    "version": 3
   },
   "file_extension": ".py",
   "mimetype": "text/x-python",
   "name": "python",
   "nbconvert_exporter": "python",
   "pygments_lexer": "ipython3",
   "version": "3.7.3"
  },
  "nteract": {
   "version": "0.12.3"
  }
 },
 "nbformat": 4,
 "nbformat_minor": 2
}
